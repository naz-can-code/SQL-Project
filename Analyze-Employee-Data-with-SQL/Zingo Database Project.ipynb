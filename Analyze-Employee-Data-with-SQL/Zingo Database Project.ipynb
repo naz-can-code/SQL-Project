{
    "cells": [
        {
            "attachments": {},
            "cell_type": "markdown",
            "metadata": {
                "azdata_cell_guid": "107802ae-95ba-4181-966b-4f972d560aa1",
                "language": "sql"
            },
            "source": [
                "# \\# SQL Project: Analyse Employee Data\n",
                "\n",
                "<span style=\"font-family: -apple-system, BlinkMacSystemFont, sans-serif; color: var(--vscode-foreground);\">This project uses the <code>zingo</code> database to explore employee data.&nbsp;&nbsp;</span>    \n",
                "\n",
                "We'll answer real-world questions using SQL queries, such as:\n",
                "\n",
                "\\- Listing employees in the Engineering department  \n",
                "\n",
                "\\- Finding the highest paid employees  \n",
                "\n",
                "\\- Counting employees per department  \n",
                "\n",
                "\\- And more...\n",
                "\n",
                "Let's begin!"
            ]
        },
        {
            "attachments": {},
            "cell_type": "markdown",
            "metadata": {
                "azdata_cell_guid": "b6604d56-23d7-4efc-a8c3-6e986414832e",
                "language": "sql"
            },
            "source": [
                "### Connect to the Zingo Database and display tables"
            ]
        },
        {
            "cell_type": "code",
            "execution_count": null,
            "metadata": {
                "azdata_cell_guid": "9ef96c63-d4ce-4b55-a169-8d935aeda7c9",
                "language": "sql"
            },
            "outputs": [],
            "source": [
                "USE zingo;\n",
                "GO\n",
                "\n",
                "SELECT * FROM sys.tables;\n"
            ]
        },
        {
            "attachments": {},
            "cell_type": "markdown",
            "metadata": {
                "azdata_cell_guid": "59067001-296f-49ab-93df-644f9d2577c9",
                "language": "sql"
            },
            "source": [
                "**1\\. List all employees** who work in the Engineering department."
            ]
        },
        {
            "cell_type": "code",
            "execution_count": null,
            "metadata": {
                "azdata_cell_guid": "d63a6dd3-dede-4c17-9c2a-aaa725793a23",
                "language": "sql",
                "tags": []
            },
            "outputs": [],
            "source": [
                "SELECT E.*,D.DeptName\n",
                "FROM Employees E\n",
                "JOIN Departments D ON E.DepartmentID = D.DepartmentID\n",
                "WHERE D.DeptName = 'Engineering';\n"
            ]
        },
        {
            "attachments": {},
            "cell_type": "markdown",
            "metadata": {
                "azdata_cell_guid": "b24acada-ed24-4ddc-bcc4-484bb09ab7b3"
            },
            "source": [
                "**2\\. Find all employees** hired after January 1, 2020."
            ]
        },
        {
            "cell_type": "code",
            "execution_count": null,
            "metadata": {
                "azdata_cell_guid": "784ceb71-1473-4c5c-b9fa-acf435923adc",
                "language": "sql"
            },
            "outputs": [],
            "source": [
                "SELECT *\n",
                "FROM Employees\n",
                "where HireDate > '2020-01-01';"
            ]
        },
        {
            "attachments": {},
            "cell_type": "markdown",
            "metadata": {
                "azdata_cell_guid": "178a7dc2-bc2b-4c0a-a12a-19bf990adfb4"
            },
            "source": [
                "**3\\. Show employees** <span style=\"font-family: -apple-system, BlinkMacSystemFont, sans-serif; color: var(--vscode-foreground);\">whose salary is between 50,000 and 90,000.</span>"
            ]
        },
        {
            "cell_type": "code",
            "execution_count": null,
            "metadata": {
                "azdata_cell_guid": "c06fb19a-ebe1-40bf-8b7b-a54b717b2c1c",
                "language": "sql"
            },
            "outputs": [],
            "source": [
                "SELECT *\n",
                "FROM Employees\n",
                "WHERE Salary BETWEEN 50000 AND 90000;"
            ]
        },
        {
            "attachments": {},
            "cell_type": "markdown",
            "metadata": {
                "azdata_cell_guid": "e3a55327-4480-453f-b298-27777dbcaadf",
                "language": "sql"
            },
            "source": [
                "<span style=\"font-family: -apple-system, BlinkMacSystemFont, sans-serif; color: var(--vscode-foreground);\">4. List all employees ordered by </span> **hire date (oldest first)**<span style=\"font-family: -apple-system, BlinkMacSystemFont, sans-serif; color: var(--vscode-foreground);\">.</span>"
            ]
        },
        {
            "cell_type": "code",
            "execution_count": null,
            "metadata": {
                "azdata_cell_guid": "f7312f02-82c3-4752-af23-00f67c7c3942",
                "language": "sql"
            },
            "outputs": [],
            "source": [
                "SELECT *\n",
                "FROM Employees\n",
                "Order by HireDate ASC;"
            ]
        },
        {
            "attachments": {},
            "cell_type": "markdown",
            "metadata": {
                "azdata_cell_guid": "4bb3fd32-411d-4a62-9592-b41efbef1d5d"
            },
            "source": [
                "Show top 10 employees with the **highest salaries**."
            ]
        },
        {
            "cell_type": "code",
            "execution_count": null,
            "metadata": {
                "azdata_cell_guid": "8ee0851c-5376-4daa-8670-9aaaddfd8dbd",
                "language": "sql"
            },
            "outputs": [],
            "source": [
                "SELECT Distinct FirstName, Salary\n",
                "FROM Employees\n",
                "ORDER BY Salary DESC\n",
                "OFFSET 0 ROWS FETCH NEXT 10 ROWS ONLY;\n"
            ]
        },
        {
            "attachments": {},
            "cell_type": "markdown",
            "metadata": {
                "azdata_cell_guid": "1de80f3b-5f0d-40a2-8b44-87531917f7c2"
            },
            "source": [
                "But here I can See the dupliacte records,  lets remove dupliacte records"
            ]
        },
        {
            "cell_type": "code",
            "execution_count": null,
            "metadata": {
                "azdata_cell_guid": "b2836da9-0560-4ec6-b8d8-971277895aaf",
                "language": "sql"
            },
            "outputs": [],
            "source": [
                "SELECT FirstName, LastName, Salary, DepartmentID, COUNT(*) AS DuplicateCount\n",
                "FROM Employees\n",
                "GROUP BY FirstName, LastName, Salary, DepartmentID\n",
                "HAVING COUNT(*) > 1\n",
                "ORDER BY DuplicateCount DESC;"
            ]
        },
        {
            "attachments": {},
            "cell_type": "markdown",
            "metadata": {
                "azdata_cell_guid": "8ce8aa9f-c1f5-4588-9a76-a898fbaa08b5"
            },
            "source": [
                "So we have these employess record duplicate. Lets Delete the duplicate records."
            ]
        },
        {
            "cell_type": "code",
            "execution_count": null,
            "metadata": {
                "azdata_cell_guid": "532cf8ec-082c-41eb-b785-36c5c824c63b",
                "language": "sql"
            },
            "outputs": [],
            "source": [
                "DELETE e\n",
                "FROM Employees e\n",
                "JOIN (\n",
                "    SELECT FirstName, LastName, Salary, DepartmentID\n",
                "    FROM Employees\n",
                "    GROUP BY FirstName, LastName, Salary, DepartmentID\n",
                "    HAVING COUNT(*) > 1\n",
                ") dup\n",
                "ON e.FirstName = dup.FirstName\n",
                "AND e.LastName = dup.LastName\n",
                "AND e.Salary = dup.Salary\n",
                "AND e.DepartmentID = dup.DepartmentID;\n"
            ]
        },
        {
            "attachments": {},
            "cell_type": "markdown",
            "metadata": {
                "azdata_cell_guid": "decacb66-5e54-483c-9747-ffd7517397f8",
                "language": "sql"
            },
            "source": [
                "Lets check if the duplicate records are deleted or still here."
            ]
        },
        {
            "cell_type": "code",
            "execution_count": null,
            "metadata": {
                "azdata_cell_guid": "9809a377-6dd4-44bb-a121-e00567bc0c05",
                "language": "sql"
            },
            "outputs": [],
            "source": [
                "SELECT FirstName, LastName, Salary, DepartmentID, COUNT(*) AS DuplicateCount\n",
                "FROM Employees\n",
                "GROUP BY FirstName, LastName, Salary, DepartmentID\n",
                "HAVING COUNT(*) > 1\n",
                "ORDER BY DuplicateCount DESC;"
            ]
        },
        {
            "attachments": {},
            "cell_type": "markdown",
            "metadata": {
                "azdata_cell_guid": "89edaad5-3df7-433a-92e8-5f58c241b304",
                "language": "sql"
            },
            "source": [
                "We have remove the duplicate records lets find <span style=\"font-family: -apple-system, BlinkMacSystemFont, sans-serif; color: var(--vscode-foreground);\">top 10 employees with the</span> **highest salaries**<span style=\"font-family: -apple-system, BlinkMacSystemFont, sans-serif; color: var(--vscode-foreground);\">.</span>"
            ]
        },
        {
            "cell_type": "code",
            "execution_count": null,
            "metadata": {
                "azdata_cell_guid": "8a8fbf9b-7b73-4c26-bb63-f812744f979c",
                "language": "sql"
            },
            "outputs": [],
            "source": [
                "SELECT Distinct FirstName, Salary\n",
                "FROM Employees\n",
                "ORDER BY Salary DESC\n",
                "OFFSET 0 ROWS FETCH NEXT 10 ROWS ONLY;"
            ]
        },
        {
            "attachments": {},
            "cell_type": "markdown",
            "metadata": {
                "azdata_cell_guid": "be4ca7eb-013e-42dd-9b07-abab43cd3cbd"
            },
            "source": [
                "<span style=\"font-family: -apple-system, BlinkMacSystemFont, sans-serif; color: var(--vscode-foreground);\">6. List employees in the&nbsp;</span> **Marketing department**<span style=\"font-family: -apple-system, BlinkMacSystemFont, sans-serif; color: var(--vscode-foreground);\">, sorted by</span> **salary descending**<span style=\"font-family: -apple-system, BlinkMacSystemFont, sans-serif; color: var(--vscode-foreground);\">.</span>"
            ]
        },
        {
            "cell_type": "code",
            "execution_count": null,
            "metadata": {
                "azdata_cell_guid": "2444b325-8724-4320-ba5b-d454a8813346",
                "language": "sql"
            },
            "outputs": [],
            "source": [
                "SELECT E.*,D.DeptName\n",
                "FROM Employees E\n",
                "JOIN Departments D ON E.DepartmentID = D.DepartmentID\n",
                "WHERE D.DeptName = 'Marketing'\n",
                "ORDER BY Salary DESC;\n"
            ]
        },
        {
            "attachments": {},
            "cell_type": "markdown",
            "metadata": {
                "azdata_cell_guid": "8c21781a-5ffa-4f16-8df8-d9658f40ab38",
                "language": "sql"
            },
            "source": [
                "7\\. Lets find the  **unique department IDs** <span style=\"font-family: -apple-system, BlinkMacSystemFont, sans-serif; color: var(--vscode-foreground);\">from the Employees table with Department name from Department table using join.</span>"
            ]
        },
        {
            "cell_type": "code",
            "execution_count": null,
            "metadata": {
                "azdata_cell_guid": "bd03fdce-bec6-45d4-a755-25987757ef7b",
                "language": "sql"
            },
            "outputs": [],
            "source": [
                "SELECT \n",
                "    E.FirstName,\n",
                "    E.LastName,\n",
                "    E.Salary,\n",
                "    D.DeptName,\n",
                "    AVG(E.Salary) OVER (PARTITION BY E.DepartmentID) AS AvgDeptSalary\n",
                "FROM Employees E\n",
                "JOIN Departments D ON E.DepartmentID = D.DepartmentID\n",
                "WHERE D.DeptName = 'Sales'\n",
                "ORDER BY E.Salary DESC;\n"
            ]
        },
        {
            "attachments": {},
            "cell_type": "markdown",
            "metadata": {
                "azdata_cell_guid": "fee69dd5-bce8-4986-b74b-5648241e8ea7"
            },
            "source": [
                "8\\. Let's <span style=\"font-family: -apple-system, BlinkMacSystemFont, sans-serif; color: var(--vscode-foreground);\">Find the </span> **average salary** <span style=\"font-family: -apple-system, BlinkMacSystemFont, sans-serif; color: var(--vscode-foreground);\">of employees in the Sales department.</span>"
            ]
        },
        {
            "cell_type": "code",
            "execution_count": null,
            "metadata": {
                "azdata_cell_guid": "cd379dfb-983a-435c-abd8-16ba7e7a695e",
                "language": "sql"
            },
            "outputs": [],
            "source": [
                "SELECT \n",
                "    E.FirstName,\n",
                "    E.LastName,\n",
                "    E.Salary,\n",
                "    D.DeptName,\n",
                "    AVG(E.Salary) OVER (PARTITION BY E.DepartmentID) AS AvgDeptSalary\n",
                "FROM Employees E\n",
                "JOIN Departments D ON E.DepartmentID = D.DepartmentID\n",
                "WHERE D.DeptName = 'Sales'\n",
                "ORDER BY E.Salary DESC;\n"
            ]
        },
        {
            "attachments": {},
            "cell_type": "markdown",
            "metadata": {
                "azdata_cell_guid": "5d4dbf24-2cb3-4c36-9723-9b5d45d1ad90"
            },
            "source": [
                "<span style=\"font-family: -apple-system, BlinkMacSystemFont, sans-serif; color: var(--vscode-foreground);\">9. Let's Count how many employees each </span> **department** <span style=\"font-family: -apple-system, BlinkMacSystemFont, sans-serif; color: var(--vscode-foreground);\">has.</span>"
            ]
        },
        {
            "cell_type": "code",
            "execution_count": null,
            "metadata": {
                "azdata_cell_guid": "8f6f8685-b179-4dda-8bd6-6f9b968b22a2",
                "language": "sql",
                "tags": [
                    "hide_input"
                ]
            },
            "outputs": [],
            "source": [
                " SELECT D.DeptName, COUNT(*) AS EmployeeCount\n",
                "FROM Employees E\n",
                "JOIN Departments D ON E.DepartmentID = D.DepartmentID\n",
                "GROUP BY D.DeptName\n",
                "ORDER BY EmployeeCount DESC; -- optional: sorts by largest department\n"
            ]
        },
        {
            "attachments": {},
            "cell_type": "markdown",
            "metadata": {
                "azdata_cell_guid": "98b0a819-bcea-47d3-9b66-05fe2660b914",
                "language": "sql"
            },
            "source": [
                "10. Show each department with the **total salary payout** (group by DepartmentID)"
            ]
        },
        {
            "cell_type": "code",
            "execution_count": null,
            "metadata": {
                "azdata_cell_guid": "a5c612e9-f7ee-4082-9bf6-00078ff410b8",
                "language": "sql"
            },
            "outputs": [],
            "source": [
                "SELECT DepartmentID, SUM(Salary) AS TotalSalaryPayout\n",
                "FROM Employees\n",
                "GROUP BY DepartmentID;\n"
            ]
        },
        {
            "attachments": {},
            "cell_type": "markdown",
            "metadata": {
                "azdata_cell_guid": "96e841a3-dac0-43d4-9f0c-d4aa89f85a9b",
                "language": "sql"
            },
            "source": [
                "<span style=\"font-family: -apple-system, BlinkMacSystemFont, sans-serif; color: var(--vscode-foreground);\">11. List departments where the&nbsp;</span> **average salary is over 80,000**<span style=\"font-family: -apple-system, BlinkMacSystemFont, sans-serif; color: var(--vscode-foreground);\">.</span>"
            ]
        },
        {
            "cell_type": "code",
            "execution_count": null,
            "metadata": {
                "azdata_cell_guid": "e4f04027-29e8-4f15-b610-b7862ace0f16",
                "language": "sql"
            },
            "outputs": [],
            "source": [
                "SELECT DepartmentID, AVG(Salary) AS AvgSalary\n",
                "FROM Employees\n",
                "GROUP BY DepartmentID\n",
                "HAVING AVG(Salary) > 80000;"
            ]
        },
        {
            "attachments": {},
            "cell_type": "markdown",
            "metadata": {
                "azdata_cell_guid": "8f27e879-7a79-4832-850a-1dbc8945ebfd",
                "language": "sql"
            },
            "source": [
                "12. <span style=\"font-family: -apple-system, BlinkMacSystemFont, sans-serif; color: var(--vscode-foreground);\">Count departments with&nbsp;</span> **more than 5 employees**<span style=\"font-family: -apple-system, BlinkMacSystemFont, sans-serif; color: var(--vscode-foreground);\">.</span>"
            ]
        },
        {
            "cell_type": "code",
            "execution_count": null,
            "metadata": {
                "azdata_cell_guid": "a11f920d-5296-4cd5-8b5d-e90a14ad3e06",
                "language": "sql"
            },
            "outputs": [],
            "source": [
                "SELECT DepartmentID, COUNT(*) AS EmployeeCount\n",
                "FROM Employees\n",
                "GROUP BY DepartmentID\n",
                "HAVING COUNT(*) > 5;"
            ]
        },
        {
            "attachments": {},
            "cell_type": "markdown",
            "metadata": {
                "azdata_cell_guid": "711c30a7-faaf-4a91-8d31-c4d96020ee64"
            },
            "source": [
                "13. <span style=\"font-family: -apple-system, BlinkMacSystemFont, sans-serif; color: var(--vscode-foreground);\">Show&nbsp;</span> **Employee Name, DeptName, and Salary** <span style=\"font-family: -apple-system, BlinkMacSystemFont, sans-serif; color: var(--vscode-foreground);\">using a JOIN.</span>"
            ]
        },
        {
            "cell_type": "code",
            "execution_count": null,
            "metadata": {
                "azdata_cell_guid": "4ba55ba2-efa3-4a2a-b115-ae53daedeb8b",
                "language": "sql"
            },
            "outputs": [],
            "source": [
                "SELECT E.FirstName, E.LastName, D.DeptName, E.Salary\n",
                "FROM Employees E\n",
                "JOIN Departments D\n",
                "  ON E.DepartmentID = D.DepartmentID;"
            ]
        },
        {
            "attachments": {},
            "cell_type": "markdown",
            "metadata": {
                "azdata_cell_guid": "ecc80c23-ba10-4bba-a2c3-b3397e7e17ad",
                "language": "sql"
            },
            "source": [
                "14. <span style=\"font-family: -apple-system, BlinkMacSystemFont, sans-serif; color: var(--vscode-foreground);\">Show all departments&nbsp;</span> **even if they have no employees** <span style=\"font-family: -apple-system, BlinkMacSystemFont, sans-serif; color: var(--vscode-foreground);\">(LEFT JOIN).</span>"
            ]
        },
        {
            "cell_type": "code",
            "execution_count": null,
            "metadata": {
                "azdata_cell_guid": "6475f2b7-8909-49d6-a59f-fcb0911ecc64",
                "language": "sql"
            },
            "outputs": [],
            "source": [
                "SELECT D.DeptName, E.FirstName, E.LastName, E.Salary\n",
                "FROM Departments D\n",
                "LEFT JOIN Employees E\n",
                "  ON D.DepartmentID = E.DepartmentID;"
            ]
        },
        {
            "attachments": {},
            "cell_type": "markdown",
            "metadata": {
                "azdata_cell_guid": "681b14ff-26eb-475f-af32-8a697fc890dd",
                "language": "sql"
            },
            "source": [
                "<span style=\"font-family: -apple-system, BlinkMacSystemFont, sans-serif; color: var(--vscode-foreground);\">15. Show employee details for those in the&nbsp;</span> **IT** <span style=\"font-family: -apple-system, BlinkMacSystemFont, sans-serif; color: var(--vscode-foreground);\">department.</span>"
            ]
        },
        {
            "cell_type": "code",
            "execution_count": null,
            "metadata": {
                "azdata_cell_guid": "3c882b6b-0f80-4519-a1e8-9bbe1fc92856",
                "language": "sql",
                "tags": []
            },
            "outputs": [],
            "source": [
                "SELECT E.*, D.DeptName\n",
                "FROM Employees E\n",
                "JOIN Departments D\n",
                "  ON E.DepartmentID = D.DepartmentID\n",
                "  Where DeptName = 'IT';"
            ]
        },
        {
            "attachments": {},
            "cell_type": "markdown",
            "metadata": {
                "azdata_cell_guid": "410963fc-fa6c-477f-b62e-5f19ebd0ad5e"
            },
            "source": [
                "16.  <span style=\"font-family: -apple-system, BlinkMacSystemFont, sans-serif; color: var(--vscode-foreground);\">Add a column showing&nbsp;</span> **Max salary** <span style=\"font-family: -apple-system, BlinkMacSystemFont, sans-serif; color: var(--vscode-foreground);\">across all employees next to each row.</span>"
            ]
        },
        {
            "cell_type": "code",
            "execution_count": null,
            "metadata": {
                "azdata_cell_guid": "a7791f20-84e7-47d0-a045-0633ee43e1f9",
                "language": "sql"
            },
            "outputs": [],
            "source": [
                "SELECT FirstName, LastName, DepartmentID, Salary,\n",
                "       MAX(Salary) OVER () AS Max_Salary\n",
                "FROM Employees;"
            ]
        },
        {
            "attachments": {},
            "cell_type": "markdown",
            "metadata": {
                "azdata_cell_guid": "c3069d56-7567-4ecb-baca-dd9a1cea71b7",
                "language": "sql"
            },
            "source": [
                "Let's join the `Departments` table to the `Employees` table to add and display the department name (`DeptName`) for each employee."
            ]
        },
        {
            "cell_type": "code",
            "execution_count": null,
            "metadata": {
                "azdata_cell_guid": "ec3fda1d-4304-4610-8df9-43c0364fe1af",
                "language": "sql",
                "tags": [
                    "hide_input"
                ]
            },
            "outputs": [],
            "source": [
                "select E.FirstName, E.LastName,E.DepartmentID,E.Salary,D.DeptName,Max(E.Salary) Over() AS Max_Salary\n",
                "FROM Employees E\n",
                "Join Departments D\n",
                "ON E.DepartmentID = D.DepartmentID;"
            ]
        },
        {
            "attachments": {},
            "cell_type": "markdown",
            "metadata": {
                "azdata_cell_guid": "a84d497a-6def-4007-bae4-6ce6fb470db5"
            },
            "source": [
                "<span style=\"font-family: -apple-system, BlinkMacSystemFont, sans-serif; color: var(--vscode-foreground);\">17. Add a column showing&nbsp;</span> **Max salary** <span style=\"font-family: -apple-system, BlinkMacSystemFont, sans-serif; color: var(--vscode-foreground);\">across all employees next to each row.</span>"
            ]
        },
        {
            "cell_type": "code",
            "execution_count": null,
            "metadata": {
                "azdata_cell_guid": "00539df1-5681-41af-bf88-04c9cb381d06",
                "language": "sql",
                "tags": [
                    "hide_input"
                ]
            },
            "outputs": [],
            "source": [
                "SELECT FirstName, LastName, DepartmentID, Salary, MAX(Salary) OVER (PARTITION by (DepartmentID)) AS Max_Department_Salary\n",
                "From Employees;"
            ]
        },
        {
            "attachments": {},
            "cell_type": "markdown",
            "metadata": {
                "azdata_cell_guid": "9247f392-9315-4fd9-a7bd-476b69741245"
            },
            "source": [
                "18. <span style=\"font-family: -apple-system, BlinkMacSystemFont, sans-serif; color: var(--vscode-foreground);\">Add a column to show&nbsp;</span>  **employee rank by salary** <span style=\"font-family: -apple-system, BlinkMacSystemFont, sans-serif; color: var(--vscode-foreground);\">within each department. also show thw dept name from departmant table.&nbsp;</span>"
            ]
        },
        {
            "cell_type": "code",
            "execution_count": null,
            "metadata": {
                "azdata_cell_guid": "f6411832-a22b-45d7-984f-827ea4abc26c",
                "language": "sql"
            },
            "outputs": [],
            "source": [
                "SELECT \n",
                "    E.*,\n",
                "    D.DeptName,\n",
                "    rank() OVER (\n",
                "    Partition by (E.DepartmentID)\n",
                "     oRDER BY E.Salary DESC\n",
                "    ) AS SALARY_RANK\n",
                "FROM Employees E \n",
                "Join Departments D\n",
                "ON E.DepartmentID=D.DepartmentID;"
            ]
        },
        {
            "attachments": {},
            "cell_type": "markdown",
            "metadata": {
                "azdata_cell_guid": "1c468b00-abb8-4ae3-83a3-e6ab137fb860"
            },
            "source": [
                "<span style=\"font-family: -apple-system, BlinkMacSystemFont, sans-serif; color: var(--vscode-foreground);\">19. Show the&nbsp;</span> **top 2 highest paid employees** <span style=\"font-family: -apple-system, BlinkMacSystemFont, sans-serif; color: var(--vscode-foreground);\">in each department.</span>"
            ]
        },
        {
            "cell_type": "code",
            "execution_count": null,
            "metadata": {
                "azdata_cell_guid": "76e8420c-268d-47cc-a1a0-00527038b0d1",
                "language": "sql",
                "tags": [
                    "hide_input"
                ]
            },
            "outputs": [],
            "source": [
                "SELECT *\n",
                "FROM \n",
                "(\n",
                "    SELECT \n",
                "    E.FirstName,\n",
                "    E.LastName,\n",
                "    E.Salary,\n",
                "    D.DeptName,\n",
                "    rank() OVER (\n",
                "    Partition by (E.DepartmentID)\n",
                "     oRDER BY E.Salary DESC\n",
                "    ) AS SALARY_RANK\n",
                "FROM Employees E \n",
                "Join Departments D\n",
                "ON E.DepartmentID=D.DepartmentID\n",
                ") AS RANKED_EMPLOYEES\n",
                "WHERE Salary_Rank<=2;\n"
            ]
        },
        {
            "attachments": {},
            "cell_type": "markdown",
            "metadata": {
                "azdata_cell_guid": "e5d550bc-44f0-46dc-822b-fe5e1bddbba8"
            },
            "source": [
                "<span style=\"font-family: -apple-system, BlinkMacSystemFont, sans-serif; color: var(--vscode-foreground);\">20. Write a query that finds employees with&nbsp;</span> **duplicate first name.**"
            ]
        },
        {
            "attachments": {},
            "cell_type": "markdown",
            "metadata": {
                "azdata_cell_guid": "2f0519fe-b9d3-4091-bfe3-3f088d80f1fa"
            },
            "source": [
                "If we want just the Name count we can simply use group by and having with count function."
            ]
        },
        {
            "cell_type": "code",
            "execution_count": null,
            "metadata": {
                "azdata_cell_guid": "93dfbb38-e0b5-4d9c-8bea-f138212604d4",
                "language": "sql",
                "tags": []
            },
            "outputs": [],
            "source": [
                "SELECT FirstName, COUNT(*) AS NameCount\n",
                "FROM Employees\n",
                "GROUP BY FirstName\n",
                "HAVING COUNT(*) > 1;"
            ]
        },
        {
            "attachments": {},
            "cell_type": "markdown",
            "metadata": {
                "azdata_cell_guid": "099cc473-5661-4cb0-9cbe-3910db3f697d"
            },
            "source": [
                "But if we want to display all the details of the employees with dupliacte FirstName we can use the following query."
            ]
        },
        {
            "cell_type": "code",
            "execution_count": null,
            "metadata": {
                "azdata_cell_guid": "921bf6f2-f502-4be9-81ea-6350425bc3b3",
                "language": "sql"
            },
            "outputs": [],
            "source": [
                "SELECT *,COUNT(*) OVER (PARTITION BY FirstName) AS NameCount\n",
                "FROM Employees\n",
                "WHERE FirstName IN (\n",
                "    SELECT FirstName\n",
                "    FROM Employees\n",
                "    GROUP BY FirstName\n",
                "    HAVING COUNT(*) > 1\n",
                ");\n",
                "\n"
            ]
        },
        {
            "attachments": {},
            "cell_type": "markdown",
            "metadata": {
                "azdata_cell_guid": "8b2f6651-3eb3-41bb-9a05-da121fa81f3e"
            },
            "source": [
                "<span style=\"background-color: transparent; color: rgb(26, 28, 30); font-family: &quot;Helvetica Neue&quot;, sans-serif; font-size: 10.5pt; white-space-collapse: preserve;\">21. Create a new column that shows the year only from the HireDate.</span>"
            ]
        },
        {
            "cell_type": "code",
            "execution_count": null,
            "metadata": {
                "azdata_cell_guid": "911abce6-0516-46e0-a73a-3e5536b50527",
                "language": "sql"
            },
            "outputs": [],
            "source": [
                "\n",
                " SELECT *, YEAR(HireDate) AS Year_Hired\n",
                " FROM Employees;\n"
            ]
        }
    ],
    "metadata": {
        "kernelspec": {
            "display_name": "SQL",
            "language": "sql",
            "name": "SQL"
        },
        "language_info": {
            "name": "sql",
            "version": ""
        }
    },
    "nbformat": 4,
    "nbformat_minor": 2
}
